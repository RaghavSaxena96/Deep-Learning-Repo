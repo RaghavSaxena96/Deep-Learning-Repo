{
 "cells": [
  {
   "cell_type": "code",
   "execution_count": 1,
   "metadata": {},
   "outputs": [],
   "source": [
    "from sklearn.preprocessing import StandardScaler\n",
    "import pandas as pd\n",
    "import numpy as np"
   ]
  },
  {
   "cell_type": "code",
   "execution_count": 2,
   "metadata": {},
   "outputs": [],
   "source": [
    "dataframe=pd.read_csv('pima-indians-diabetes.csv')\n",
    "array=dataframe.values"
   ]
  },
  {
   "cell_type": "code",
   "execution_count": 3,
   "metadata": {},
   "outputs": [],
   "source": [
    "X=array[:,0:8]\n",
    "Y=array[:,8]"
   ]
  },
  {
   "cell_type": "code",
   "execution_count": 4,
   "metadata": {},
   "outputs": [
    {
     "name": "stdout",
     "output_type": "stream",
     "text": [
      "[[-0.844 -1.122 -0.16   0.532 -0.694 -0.684 -0.364 -0.189]\n",
      " [ 1.234  1.944 -0.264 -1.287 -0.694 -1.102  0.605 -0.104]\n",
      " [-0.844 -0.997 -0.16   0.156  0.122 -0.493 -0.92  -1.04 ]\n",
      " [-1.141  0.505 -1.504  0.908  0.765  1.409  5.483 -0.019]\n",
      " [ 0.344 -0.152  0.253 -1.287 -0.694 -0.811 -0.817 -0.274]]\n"
     ]
    }
   ],
   "source": [
    "scaler=StandardScaler().fit(X)\n",
    "rescalerX=scaler.transform(X)\n",
    "np.set_printoptions(precision=3)\n",
    "print(rescalerX[0:5,:])"
   ]
  },
  {
   "cell_type": "code",
   "execution_count": null,
   "metadata": {},
   "outputs": [],
   "source": []
  }
 ],
 "metadata": {
  "kernelspec": {
   "display_name": "Python 3",
   "language": "python",
   "name": "python3"
  },
  "language_info": {
   "codemirror_mode": {
    "name": "ipython",
    "version": 3
   },
   "file_extension": ".py",
   "mimetype": "text/x-python",
   "name": "python",
   "nbconvert_exporter": "python",
   "pygments_lexer": "ipython3",
   "version": "3.6.8"
  }
 },
 "nbformat": 4,
 "nbformat_minor": 2
}
